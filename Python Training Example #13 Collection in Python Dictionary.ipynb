{
 "cells": [
  {
   "cell_type": "markdown",
   "metadata": {},
   "source": [
    "# Python Training Example #13 Collection in Python Dictionary"
   ]
  },
  {
   "cell_type": "code",
   "execution_count": 6,
   "metadata": {},
   "outputs": [
    {
     "data": {
      "text/plain": [
       "{'Vincet': 'Man',\n",
       " 'Adel': 'Man',\n",
       " 'Kiky': 'Woman',\n",
       " 'Pandot': 'Man',\n",
       " 'Depil': 'Man',\n",
       " 'Mini': 'Woman',\n",
       " 'Jambrong': 'Man'}"
      ]
     },
     "execution_count": 6,
     "metadata": {},
     "output_type": "execute_result"
    }
   ],
   "source": [
    "# Create a Dictionary, key must unique\n",
    "name_dictionary = {'Vincet' : 'Man', 'Adel' : 'Man', 'Kiky' : 'Woman', 'Pandot' : 'Man', 'Depil' : 'Man', 'Mini' : 'Woman', 'Jambrong' : 'Man'} # Create dictionary with {}\n",
    "name_dictionary"
   ]
  },
  {
   "cell_type": "code",
   "execution_count": 10,
   "metadata": {},
   "outputs": [
    {
     "data": {
      "text/plain": [
       "'Man'"
      ]
     },
     "execution_count": 10,
     "metadata": {},
     "output_type": "execute_result"
    }
   ],
   "source": [
    "# Slicing dictionary\n",
    "name_dictionary['Vincet'] #slicing dictionary key Vincent"
   ]
  },
  {
   "cell_type": "code",
   "execution_count": 11,
   "metadata": {},
   "outputs": [
    {
     "data": {
      "text/plain": [
       "{'Student1': {'Name': 'Vincet', 'Gender': 'Man', 'BOD': 1991},\n",
       " 'Student2': {'Name': 'Adel', 'Gender': 'Man', 'BOD': 1992},\n",
       " 'Student3': {'Name': 'Kiky', 'Gender': 'Woman', 'BOD': 1995},\n",
       " 'Student4': {'Name': 'Pandot', 'Gender': 'Man', 'BOD': 1994},\n",
       " 'Student5': {'Name': 'Depil', 'Gender': 'Man', 'BOD': 1996},\n",
       " 'Student6': {'Name': 'Mini', 'Gender': 'Woman', 'BOD': 1994},\n",
       " 'Student7': {'Name': 'Jambrong', 'Gender': 'Man', 'BOD': 1992}}"
      ]
     },
     "execution_count": 11,
     "metadata": {},
     "output_type": "execute_result"
    }
   ],
   "source": [
    "# Create a nested Dictionary, key must unique\n",
    "name_nested_dictionary = {\n",
    "    'Student1' : {'Name' : 'Vincet',\n",
    "                  'Gender' : 'Man',\n",
    "                  'BOD' : 1991\n",
    "                 },\n",
    "    'Student2' : {'Name' : 'Adel',\n",
    "                  'Gender' : 'Man',\n",
    "                  'BOD' : 1992\n",
    "                 },\n",
    "    'Student3' : {'Name' : 'Kiky',\n",
    "                  'Gender' : 'Woman', \n",
    "                  'BOD' : 1995\n",
    "                 },\n",
    "    'Student4' : {'Name' : 'Pandot',\n",
    "                  'Gender' : 'Man',\n",
    "                  'BOD' : 1994\n",
    "                 },\n",
    "    'Student5' : {'Name' : 'Depil',\n",
    "                  'Gender' : 'Man',\n",
    "                  'BOD' : 1996\n",
    "                 },\n",
    "    'Student6' : {'Name' : 'Mini',\n",
    "                  'Gender' : 'Woman',\n",
    "                  'BOD' : 1994\n",
    "                 }, \n",
    "    'Student7' : {'Name' : 'Jambrong',\n",
    "                  'Gender' : 'Man',\n",
    "                 'BOD' : 1992\n",
    "                 }\n",
    "} # Create nested dictionary with {}\n",
    "name_nested_dictionary"
   ]
  },
  {
   "cell_type": "code",
   "execution_count": 14,
   "metadata": {},
   "outputs": [
    {
     "data": {
      "text/plain": [
       "{'Name': 'Adel', 'Gender': 'Man', 'BOD': 1992}"
      ]
     },
     "execution_count": 14,
     "metadata": {},
     "output_type": "execute_result"
    }
   ],
   "source": [
    "# Slicing nested dictionary\n",
    "name_nested_dictionary['Student1'] #slicing dictionary key Student1"
   ]
  },
  {
   "cell_type": "code",
   "execution_count": 15,
   "metadata": {},
   "outputs": [
    {
     "data": {
      "text/plain": [
       "'Adel'"
      ]
     },
     "execution_count": 15,
     "metadata": {},
     "output_type": "execute_result"
    }
   ],
   "source": [
    "# Slicing nested dictionary\n",
    "name_nested_dictionary['Student2']['Name'] #slicing dictionary key Student2 and value Name"
   ]
  },
  {
   "cell_type": "code",
   "execution_count": 17,
   "metadata": {},
   "outputs": [
    {
     "data": {
      "text/plain": [
       "'Woman'"
      ]
     },
     "execution_count": 17,
     "metadata": {},
     "output_type": "execute_result"
    }
   ],
   "source": [
    "# Slicing nested dictionary\n",
    "name_nested_dictionary['Student3']['Gender'] #slicing dictionary key Student3 and value Gender"
   ]
  },
  {
   "cell_type": "code",
   "execution_count": 18,
   "metadata": {},
   "outputs": [
    {
     "data": {
      "text/plain": [
       "1994"
      ]
     },
     "execution_count": 18,
     "metadata": {},
     "output_type": "execute_result"
    }
   ],
   "source": [
    "# Slicing nested dictionary\n",
    "name_nested_dictionary['Student4']['BOD'] #slicing dictionary key Student4 and value BOD"
   ]
  },
  {
   "cell_type": "code",
   "execution_count": null,
   "metadata": {},
   "outputs": [],
   "source": []
  }
 ],
 "metadata": {
  "kernelspec": {
   "display_name": "Python 3",
   "language": "python",
   "name": "python3"
  },
  "language_info": {
   "codemirror_mode": {
    "name": "ipython",
    "version": 3
   },
   "file_extension": ".py",
   "mimetype": "text/x-python",
   "name": "python",
   "nbconvert_exporter": "python",
   "pygments_lexer": "ipython3",
   "version": "3.8.5"
  }
 },
 "nbformat": 4,
 "nbformat_minor": 4
}
